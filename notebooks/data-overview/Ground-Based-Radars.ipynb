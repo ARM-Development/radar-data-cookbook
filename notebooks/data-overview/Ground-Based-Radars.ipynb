{
 "cells": [
  {
   "cell_type": "markdown",
   "id": "e3e78b9d-eb19-4fba-9e0c-7d685420dfd8",
   "metadata": {},
   "source": [
    "# Ground Based Weather Radars\n",
    "\n",
    "This is an overview of ground-based weather radars"
   ]
  },
  {
   "cell_type": "code",
   "execution_count": null,
   "id": "fa0f5cec-72ca-415e-bb8f-6d78f06f86d8",
   "metadata": {},
   "outputs": [],
   "source": []
  },
  {
   "cell_type": "markdown",
   "id": "4b741715-92e3-4139-840b-2b4aed5b654d",
   "metadata": {},
   "source": [
    "## Vertically Pointing\n",
    "For example, we have the KAZR radar."
   ]
  },
  {
   "cell_type": "code",
   "execution_count": null,
   "id": "a6cff592-35a7-4407-860a-54c6f52b74fb",
   "metadata": {},
   "outputs": [],
   "source": []
  }
 ],
 "metadata": {
  "kernelspec": {
   "display_name": "Python 3 (ipykernel)",
   "language": "python",
   "name": "python3"
  },
  "language_info": {
   "codemirror_mode": {
    "name": "ipython",
    "version": 3
   },
   "file_extension": ".py",
   "mimetype": "text/x-python",
   "name": "python",
   "nbconvert_exporter": "python",
   "pygments_lexer": "ipython3",
   "version": "3.9.12"
  }
 },
 "nbformat": 4,
 "nbformat_minor": 5
}
